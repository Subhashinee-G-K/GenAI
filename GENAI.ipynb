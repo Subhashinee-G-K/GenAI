{
  "nbformat": 4,
  "nbformat_minor": 0,
  "metadata": {
    "colab": {
      "provenance": []
    },
    "kernelspec": {
      "name": "python3",
      "display_name": "Python 3"
    },
    "language_info": {
      "name": "python"
    }
  },
  "cells": [
    {
      "cell_type": "markdown",
      "source": [
        "**Image Noise Reduction using autoencoder**"
      ],
      "metadata": {
        "id": "qQ584DKI9Otq"
      }
    },
    {
      "cell_type": "code",
      "source": [
        "import numpy as np\n",
        "import matplotlib.pyplot as plt\n",
        "from keras.datasets import mnist\n",
        "from keras.models import Model\n",
        "from keras.layers import Input, Conv2D, MaxPooling2D, UpSampling2D"
      ],
      "metadata": {
        "id": "3c-_PAtK7yg5"
      },
      "execution_count": 17,
      "outputs": []
    },
    {
      "cell_type": "markdown",
      "source": [
        "**Load MNIST datasetbold text**"
      ],
      "metadata": {
        "id": "IrP2nDgi70du"
      }
    },
    {
      "cell_type": "code",
      "source": [
        "(x_train, _), (x_test, _) = mnist.load_data()"
      ],
      "metadata": {
        "id": "hJp_aXl371uQ"
      },
      "execution_count": 18,
      "outputs": []
    },
    {
      "cell_type": "markdown",
      "source": [
        "**Normalize pixel values to the range [0, 1]bold text**"
      ],
      "metadata": {
        "id": "eKS8NFq1755I"
      }
    },
    {
      "cell_type": "code",
      "source": [
        "x_train = x_train.astype('float32') / 255.\n",
        "x_test = x_test.astype('float32') / 255.\n"
      ],
      "metadata": {
        "id": "pZQCobLP77Vu"
      },
      "execution_count": 19,
      "outputs": []
    },
    {
      "cell_type": "markdown",
      "source": [
        "**Add random noise to the images**"
      ],
      "metadata": {
        "id": "FSFQKN937_C2"
      }
    },
    {
      "cell_type": "code",
      "source": [
        "noise_factor = 0.5\n",
        "x_train_noisy = x_train + noise_factor * np.random.normal(loc=0.0, scale=1.0, size=x_train.shape)\n",
        "x_test_noisy = x_test + noise_factor * np.random.normal(loc=0.0, scale=1.0, size=x_test.shape)"
      ],
      "metadata": {
        "id": "mg1YJleV8BkO"
      },
      "execution_count": 20,
      "outputs": []
    },
    {
      "cell_type": "markdown",
      "source": [
        "**Clip the images to be between 0 and 1**"
      ],
      "metadata": {
        "id": "xnzw7JZd8F1q"
      }
    },
    {
      "cell_type": "code",
      "source": [
        "x_train_noisy = np.clip(x_train_noisy, 0., 1.)\n",
        "x_test_noisy = np.clip(x_test_noisy, 0., 1.)"
      ],
      "metadata": {
        "id": "McWEbc548Hnx"
      },
      "execution_count": 21,
      "outputs": []
    },
    {
      "cell_type": "markdown",
      "source": [
        "**Define the autoencoder model**"
      ],
      "metadata": {
        "id": "QAGXSa3I8Lfk"
      }
    },
    {
      "cell_type": "code",
      "source": [
        "input_img = Input(shape=(28, 28, 1))"
      ],
      "metadata": {
        "id": "iykEYBuX8MwS"
      },
      "execution_count": 22,
      "outputs": []
    },
    {
      "cell_type": "markdown",
      "source": [
        "**Encoder**"
      ],
      "metadata": {
        "id": "gRQPI8gm8Pkx"
      }
    },
    {
      "cell_type": "code",
      "source": [
        "x = Conv2D(32, (3, 3), activation='relu', padding='same')(input_img)\n",
        "x = MaxPooling2D((2, 2), padding='same')(x)\n",
        "x = Conv2D(32, (3, 3), activation='relu', padding='same')(x)\n",
        "encoded = MaxPooling2D((2, 2), padding='same')(x)"
      ],
      "metadata": {
        "id": "OGE904ah8Rp0"
      },
      "execution_count": 23,
      "outputs": []
    },
    {
      "cell_type": "markdown",
      "source": [
        "**Decoder**"
      ],
      "metadata": {
        "id": "8PqTV-aE8U9J"
      }
    },
    {
      "cell_type": "code",
      "source": [
        "x = Conv2D(64, (3, 3), activation='relu', padding='same')(encoded)\n",
        "x = UpSampling2D((2, 2))(x)\n",
        "x = Conv2D(32, (3, 3), activation='relu', padding='same')(x)\n",
        "x = UpSampling2D((2, 2))(x)\n",
        "decoded = Conv2D(1, (3, 3), activation='sigmoid', padding='same')(x)"
      ],
      "metadata": {
        "id": "HHvodZNj8WWV"
      },
      "execution_count": 29,
      "outputs": []
    },
    {
      "cell_type": "markdown",
      "source": [
        "**Autoencoder model**"
      ],
      "metadata": {
        "id": "kySjZTHO8a9-"
      }
    },
    {
      "cell_type": "code",
      "source": [
        "autoencoder = Model(input_img, decoded)\n",
        "autoencoder.compile(optimizer='adam', loss='binary_crossentropy')"
      ],
      "metadata": {
        "id": "RgkBPe9w8cXC"
      },
      "execution_count": 30,
      "outputs": []
    },
    {
      "cell_type": "markdown",
      "source": [
        "**Train the autoencoder**"
      ],
      "metadata": {
        "id": "TurcxxbG8frQ"
      }
    },
    {
      "cell_type": "code",
      "source": [
        "autoencoder.fit(x_train_noisy, x_train,\n",
        "                epochs=10,\n",
        "                batch_size=128,\n",
        "                shuffle=True,\n",
        "                validation_data=(x_test_noisy, x_test))"
      ],
      "metadata": {
        "colab": {
          "base_uri": "https://localhost:8080/"
        },
        "id": "1faHNAsM8hPQ",
        "outputId": "49859221-b88e-4c49-bb70-e5d82220335e"
      },
      "execution_count": 31,
      "outputs": [
        {
          "output_type": "stream",
          "name": "stdout",
          "text": [
            "Epoch 1/10\n",
            "469/469 [==============================] - 153s 319ms/step - loss: 0.1325 - val_loss: 0.1065\n",
            "Epoch 2/10\n",
            "469/469 [==============================] - 144s 306ms/step - loss: 0.1036 - val_loss: 0.1015\n",
            "Epoch 3/10\n",
            "469/469 [==============================] - 139s 296ms/step - loss: 0.1006 - val_loss: 0.0988\n",
            "Epoch 4/10\n",
            "469/469 [==============================] - 143s 305ms/step - loss: 0.0990 - val_loss: 0.0976\n",
            "Epoch 5/10\n",
            "469/469 [==============================] - 139s 296ms/step - loss: 0.0981 - val_loss: 0.0973\n",
            "Epoch 6/10\n",
            "469/469 [==============================] - 138s 295ms/step - loss: 0.0974 - val_loss: 0.0962\n",
            "Epoch 7/10\n",
            "469/469 [==============================] - 139s 297ms/step - loss: 0.0969 - val_loss: 0.0962\n",
            "Epoch 8/10\n",
            "469/469 [==============================] - 138s 295ms/step - loss: 0.0965 - val_loss: 0.0956\n",
            "Epoch 9/10\n",
            "469/469 [==============================] - 139s 296ms/step - loss: 0.0960 - val_loss: 0.0956\n",
            "Epoch 10/10\n",
            "469/469 [==============================] - 139s 297ms/step - loss: 0.0957 - val_loss: 0.0950\n"
          ]
        },
        {
          "output_type": "execute_result",
          "data": {
            "text/plain": [
              "<keras.src.callbacks.History at 0x7bf3cef30520>"
            ]
          },
          "metadata": {},
          "execution_count": 31
        }
      ]
    },
    {
      "cell_type": "markdown",
      "source": [
        "**Denoise test images**"
      ],
      "metadata": {
        "id": "9LR2t18Q8lR7"
      }
    },
    {
      "cell_type": "code",
      "source": [
        "decoded_imgs = autoencoder.predict(x_test_noisy)"
      ],
      "metadata": {
        "colab": {
          "base_uri": "https://localhost:8080/"
        },
        "id": "KCUi1ZQE8mqj",
        "outputId": "322c458c-1a60-4989-8865-625058828359"
      },
      "execution_count": 32,
      "outputs": [
        {
          "output_type": "stream",
          "name": "stdout",
          "text": [
            "313/313 [==============================] - 6s 20ms/step\n"
          ]
        }
      ]
    },
    {
      "cell_type": "markdown",
      "source": [
        "**Plot original, noisy, and denoised images**"
      ],
      "metadata": {
        "id": "5GnTBswK8qct"
      }
    },
    {
      "cell_type": "code",
      "source": [
        "plt.figure(figsize=(10, 4))\n",
        "for i in range(5):\n",
        "    # Original images\n",
        "    plt.subplot(3, 5, i + 1)\n",
        "    plt.imshow(x_test[i].reshape(28, 28), cmap='gray')\n",
        "    plt.title('Original')\n",
        "    plt.axis('off')\n",
        "\n",
        "    # Noisy images\n",
        "    plt.subplot(3, 5, i + 6)\n",
        "    plt.imshow(x_test_noisy[i].reshape(28, 28), cmap='gray')\n",
        "    plt.title('Noisy')\n",
        "    plt.axis('off')\n",
        "\n",
        "    # Denoised images\n",
        "    plt.subplot(3, 5, i + 11)\n",
        "    plt.imshow(decoded_imgs[i].reshape(28, 28), cmap='gray')\n",
        "    plt.title('Denoised')\n",
        "    plt.axis('off')\n",
        "plt.tight_layout()\n",
        "plt.show()"
      ],
      "metadata": {
        "colab": {
          "base_uri": "https://localhost:8080/",
          "height": 407
        },
        "id": "xd1g0oW58r3N",
        "outputId": "a43e945c-71ec-4ca5-99c9-8e467ce514aa"
      },
      "execution_count": 33,
      "outputs": [
        {
          "output_type": "display_data",
          "data": {
            "text/plain": [
              "<Figure size 1000x400 with 15 Axes>"
            ],
            "image/png": "[encoded data removed]"
          },
          "metadata": {}
        }
      ]
    }
  ]
}